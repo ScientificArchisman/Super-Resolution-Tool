{
 "cells": [
  {
   "cell_type": "code",
   "execution_count": 10,
   "metadata": {},
   "outputs": [],
   "source": [
    "import numpy as np \n",
    "import matplotlib.pyplot as plt \n",
    "import torch \n",
    "from PIL import Image\n",
    "import os\n",
    "from model import Generator, Discriminator"
   ]
  },
  {
   "cell_type": "code",
   "execution_count": 11,
   "metadata": {},
   "outputs": [],
   "source": [
    "gen = Generator(in_channels=4, out_channels=4, num_upsample_blocks=2, num_residual_blocks=16)\n",
    "dis = Discriminator(input_channels=4)"
   ]
  },
  {
   "cell_type": "code",
   "execution_count": 12,
   "metadata": {},
   "outputs": [],
   "source": [
    "img_path = \"/Users/archismanchakraborti/Desktop/python_files/Super-Resolution-Tool/data/low_res_data/3_lr.png\"\n",
    "img = Image.open(img_path)\n",
    "\n",
    "\n",
    "# Convert img to torch tensor \n",
    "img = np.array(img)\n",
    "img_torch = torch.tensor(img).permute(2, 0, 1).unsqueeze(0).float()"
   ]
  },
  {
   "cell_type": "code",
   "execution_count": 13,
   "metadata": {},
   "outputs": [
    {
     "name": "stdout",
     "output_type": "stream",
     "text": [
      "Input image shape = torch.Size([1, 4, 32, 32])\n",
      "Generator output shape = torch.Size([1, 4, 96, 96])\n",
      "Discriminator output shape = torch.Size([1, 1]), Discriminator output = 0.4223564863204956\n"
     ]
    }
   ],
   "source": [
    "print(f\"Input image shape = {img_torch.shape}\")\n",
    "out_img = gen(img_torch)\n",
    "print(f\"Generator output shape = {out_img.shape}\")\n",
    "dis_out = dis(out_img)\n",
    "print(f\"Discriminator output shape = {dis_out.shape}, Discriminator output = {dis_out.item()}\")"
   ]
  },
  {
   "cell_type": "code",
   "execution_count": 14,
   "metadata": {},
   "outputs": [
    {
     "name": "stdout",
     "output_type": "stream",
     "text": [
      "Generator has 1561028 parameters\n",
      "Discriminator has 23566081 parameters\n",
      "Total number of parameters =  25,127,109\n"
     ]
    }
   ],
   "source": [
    "# count the number of parameters in the generator and discriminator\n",
    "gen_params = sum(p.numel() for p in gen.parameters())\n",
    "dis_params = sum(p.numel() for p in dis.parameters())\n",
    "\n",
    "print(f\"Generator has {gen_params} parameters\")\n",
    "print(f\"Discriminator has {dis_params} parameters\")\n",
    "print(f\"Total number of parameters = {gen_params + dis_params: ,d}\")"
   ]
  },
  {
   "cell_type": "code",
   "execution_count": 15,
   "metadata": {},
   "outputs": [],
   "source": [
    "import config \n",
    "from imageloader import create_dataloaders"
   ]
  },
  {
   "cell_type": "code",
   "execution_count": 16,
   "metadata": {},
   "outputs": [],
   "source": [
    "train_dl, val_dl, test_dl = create_dataloaders(low_res_dir=config.LOW_RES_FOLDER, \n",
    "                                               high_res_dir=config.HIGH_RES_FOLDER, \n",
    "                                      batch_size=config.BATCH_SIZE, num_workers=config.NUM_WORKERS)"
   ]
  },
  {
   "cell_type": "code",
   "execution_count": 17,
   "metadata": {},
   "outputs": [
    {
     "data": {
      "text/plain": [
       "[tensor([[[[0.0627, 0.0627, 0.0627,  ..., 0.7451, 0.5529, 0.4039],\n",
       "           [0.0627, 0.0627, 0.0627,  ..., 0.5059, 0.4392, 0.4549],\n",
       "           [0.0627, 0.0627, 0.0627,  ..., 0.4353, 0.5098, 0.5373],\n",
       "           ...,\n",
       "           [0.7804, 0.7765, 0.7765,  ..., 0.0627, 0.0627, 0.0627],\n",
       "           [0.7765, 0.7725, 0.7686,  ..., 0.0627, 0.0627, 0.0627],\n",
       "           [0.7725, 0.7725, 0.7686,  ..., 0.0627, 0.0627, 0.0627]],\n",
       " \n",
       "          [[0.0627, 0.0627, 0.0627,  ..., 0.7451, 0.5569, 0.4078],\n",
       "           [0.0627, 0.0627, 0.0627,  ..., 0.5059, 0.4588, 0.4588],\n",
       "           [0.0627, 0.0627, 0.0627,  ..., 0.4275, 0.5020, 0.5294],\n",
       "           ...,\n",
       "           [0.7882, 0.7922, 0.7922,  ..., 0.0627, 0.0627, 0.0627],\n",
       "           [0.7922, 0.7922, 0.7961,  ..., 0.0627, 0.0627, 0.0627],\n",
       "           [0.7961, 0.7961, 0.7961,  ..., 0.0627, 0.0627, 0.0627]],\n",
       " \n",
       "          [[0.0627, 0.0627, 0.0627,  ..., 0.1765, 0.1451, 0.1373],\n",
       "           [0.0627, 0.0627, 0.0627,  ..., 0.1294, 0.1294, 0.1686],\n",
       "           [0.0627, 0.0627, 0.0627,  ..., 0.1608, 0.2353, 0.2706],\n",
       "           ...,\n",
       "           [0.8078, 0.8157, 0.8196,  ..., 0.0627, 0.0627, 0.0627],\n",
       "           [0.8157, 0.8235, 0.8275,  ..., 0.0627, 0.0627, 0.0627],\n",
       "           [0.8235, 0.8275, 0.8314,  ..., 0.0627, 0.0627, 0.0627]]]]),\n",
       " tensor([[[[0.0627, 0.0627, 0.0627,  ..., 0.2667, 0.2588, 0.3725],\n",
       "           [0.0627, 0.0627, 0.0627,  ..., 0.3137, 0.2824, 0.3098],\n",
       "           [0.0627, 0.0627, 0.0627,  ..., 0.4000, 0.3686, 0.3176],\n",
       "           ...,\n",
       "           [0.7725, 0.7725, 0.7725,  ..., 0.0627, 0.0627, 0.0627],\n",
       "           [0.7765, 0.7725, 0.7725,  ..., 0.0627, 0.0627, 0.0627],\n",
       "           [0.7686, 0.7686, 0.7725,  ..., 0.0627, 0.0627, 0.0627]],\n",
       " \n",
       "          [[0.0627, 0.0627, 0.0627,  ..., 0.2745, 0.2627, 0.3529],\n",
       "           [0.0627, 0.0627, 0.0627,  ..., 0.3255, 0.2863, 0.2980],\n",
       "           [0.0627, 0.0627, 0.0627,  ..., 0.4118, 0.3765, 0.3137],\n",
       "           ...,\n",
       "           [0.7961, 0.7961, 0.7961,  ..., 0.0627, 0.0627, 0.0627],\n",
       "           [0.7961, 0.7961, 0.7961,  ..., 0.0627, 0.0627, 0.0627],\n",
       "           [0.7922, 0.7922, 0.7961,  ..., 0.0627, 0.0627, 0.0627]],\n",
       " \n",
       "          [[0.0627, 0.0627, 0.0627,  ..., 0.1059, 0.1059, 0.1451],\n",
       "           [0.0627, 0.0627, 0.0627,  ..., 0.1333, 0.1294, 0.1333],\n",
       "           [0.0627, 0.0627, 0.0627,  ..., 0.1569, 0.1490, 0.1451],\n",
       "           ...,\n",
       "           [0.8235, 0.8235, 0.8275,  ..., 0.0627, 0.0627, 0.0627],\n",
       "           [0.8235, 0.8235, 0.8275,  ..., 0.0627, 0.0627, 0.0627],\n",
       "           [0.8275, 0.8275, 0.8275,  ..., 0.0627, 0.0627, 0.0627]]]])]"
      ]
     },
     "execution_count": 17,
     "metadata": {},
     "output_type": "execute_result"
    }
   ],
   "source": [
    "next(iter(train_dl))"
   ]
  },
  {
   "cell_type": "code",
   "execution_count": null,
   "metadata": {},
   "outputs": [],
   "source": []
  }
 ],
 "metadata": {
  "kernelspec": {
   "display_name": "Python 3",
   "language": "python",
   "name": "python3"
  },
  "language_info": {
   "codemirror_mode": {
    "name": "ipython",
    "version": 3
   },
   "file_extension": ".py",
   "mimetype": "text/x-python",
   "name": "python",
   "nbconvert_exporter": "python",
   "pygments_lexer": "ipython3",
   "version": "3.11.5"
  }
 },
 "nbformat": 4,
 "nbformat_minor": 2
}
