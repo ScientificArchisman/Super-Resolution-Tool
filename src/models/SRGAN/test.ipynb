{
 "cells": [
  {
   "cell_type": "code",
   "execution_count": 1,
   "metadata": {},
   "outputs": [],
   "source": [
    "import numpy as np \n",
    "import matplotlib.pyplot as plt \n",
    "import torch \n",
    "from PIL import Image\n",
    "from model import Generator, Discriminator"
   ]
  },
  {
   "cell_type": "code",
   "execution_count": 2,
   "metadata": {},
   "outputs": [],
   "source": [
    "gen = Generator(in_channels=4, out_channels=4, num_upsample_blocks=2, num_residual_blocks=16)\n",
    "dis = Discriminator(input_channels=4)"
   ]
  },
  {
   "cell_type": "code",
   "execution_count": 3,
   "metadata": {},
   "outputs": [],
   "source": [
    "img_path = \"/Users/archismanchakraborti/Desktop/python_files/Super-Resolution-Tool/data/low_res_data/3_lr.png\"\n",
    "img = Image.open(img_path)\n",
    "\n",
    "\n",
    "# Convert img to torch tensor \n",
    "img = np.array(img)\n",
    "img_torch = torch.tensor(img).permute(2, 0, 1).unsqueeze(0).float()"
   ]
  },
  {
   "cell_type": "code",
   "execution_count": 6,
   "metadata": {},
   "outputs": [
    {
     "name": "stdout",
     "output_type": "stream",
     "text": [
      "Input image shape = torch.Size([1, 4, 32, 32])\n",
      "Generator output shape = torch.Size([1, 4, 96, 96])\n",
      "Discriminator output shape = torch.Size([1, 1]), Discriminator output = 0.5164053440093994\n"
     ]
    }
   ],
   "source": [
    "print(f\"Input image shape = {img_torch.shape}\")\n",
    "out_img = gen(img_torch)\n",
    "print(f\"Generator output shape = {out_img.shape}\")\n",
    "dis_out = dis(out_img)\n",
    "print(f\"Discriminator output shape = {dis_out.shape}, Discriminator output = {dis_out.item()}\")"
   ]
  }
 ],
 "metadata": {
  "kernelspec": {
   "display_name": "Python 3",
   "language": "python",
   "name": "python3"
  },
  "language_info": {
   "codemirror_mode": {
    "name": "ipython",
    "version": 3
   },
   "file_extension": ".py",
   "mimetype": "text/x-python",
   "name": "python",
   "nbconvert_exporter": "python",
   "pygments_lexer": "ipython3",
   "version": "3.11.5"
  }
 },
 "nbformat": 4,
 "nbformat_minor": 2
}
