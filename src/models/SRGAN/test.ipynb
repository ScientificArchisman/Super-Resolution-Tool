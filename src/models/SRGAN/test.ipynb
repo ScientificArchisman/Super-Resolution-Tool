{
 "cells": [
  {
   "cell_type": "code",
   "execution_count": 3,
   "metadata": {},
   "outputs": [],
   "source": [
    "from model import Generator, Discriminator\n",
    "from loss import ContentLoss,  GeneratoradversarialLoss, DiscriminatorLoss\n",
    "import torch \n",
    "import torch.nn as nn\n",
    "torch.set_num_threads(1)\n",
    "import config\n",
    "from imageloader import create_dataloaders\n",
    "from torchvision.models import vgg19, VGG19_Weights"
   ]
  },
  {
   "cell_type": "code",
   "execution_count": 4,
   "metadata": {},
   "outputs": [],
   "source": [
    "device = config.DEVICE\n",
    "\n",
    "# Create the models\n",
    "discriminator = Discriminator(input_channels=config.DISCRIMINATOR_INPUT_CHANNELS).to(device)\n",
    "generator = Generator(in_channels=3, out_channels=3, \n",
    "                      num_residual_blocks=config.NUM_RESIDUAL_BLOCKS, \n",
    "                      num_upsample_blocks=config.NUM_UPSAMPLE_BLOCKS, \n",
    "                      upsample_factor=2).to(device)\n",
    "\n",
    "# Create the optimizers\n",
    "generator_optim = torch.optim.Adam(generator.parameters(), lr=1e-4)\n",
    "discriminator_optim = torch.optim.Adam(discriminator.parameters(), lr=1e-4)\n",
    "\n",
    "# Create the loss functions\n",
    "generator_adversarial_loss = GeneratoradversarialLoss().to(device)\n",
    "discriminator_loss = DiscriminatorLoss().to(device)\n",
    "content_loss = ContentLoss().to(device)\n",
    "\n",
    "# Create the dataloaders\n",
    "train_loader, validation_loader, test_loader = create_dataloaders(low_res_dir=config.LOW_RES_FOLDER, \n",
    "                                                                high_res_dir=config.HIGH_RES_FOLDER, \n",
    "                                                                batch_size=config.BATCH_SIZE, \n",
    "                                                                num_workers=config.NUM_WORKERS)"
   ]
  },
  {
   "cell_type": "code",
   "execution_count": 5,
   "metadata": {},
   "outputs": [],
   "source": [
    "lr, hr = next(iter(train_loader))\n",
    "# print(f\"Shape of low res image: {lr.shape}\")\n",
    "# print(f\"Shape of high res image: {hr.shape}\")\n",
    "\n",
    "# real_outputs = discriminator(hr)\n",
    "# print(f\"Shape of real outputs: {real_outputs.shape}\")\n",
    "\n",
    "# fake_images = generator(lr)\n",
    "# fake_outputs = discriminator(fake_images)\n",
    "# print(f\"Shape of fake outputs: {fake_outputs.shape}\")\n",
    "\n",
    "\n",
    "# loss_D = discriminator_loss(real_outputs, fake_outputs)\n",
    "# print(f\"Discriminator loss: {loss_D}\")\n",
    "\n",
    "# # Generator \n",
    "# fake_outputs = discriminator(fake_images)\n",
    "# adversarial_loss = generator_adversarial_loss(fake_outputs)\n",
    "# print(f\"Adversarial loss: {adversarial_loss}\")"
   ]
  },
  {
   "cell_type": "code",
   "execution_count": 8,
   "metadata": {},
   "outputs": [],
   "source": [
    "fake_images = generator(lr)\n",
    "content_loss_value = content_loss(fake_images, hr)"
   ]
  },
  {
   "cell_type": "code",
   "execution_count": 9,
   "metadata": {},
   "outputs": [
    {
     "data": {
      "text/plain": [
       "tensor(5.5002, grad_fn=<MseLossBackward0>)"
      ]
     },
     "execution_count": 9,
     "metadata": {},
     "output_type": "execute_result"
    }
   ],
   "source": [
    "content_loss_value"
   ]
  }
 ],
 "metadata": {
  "kernelspec": {
   "display_name": "Python 3",
   "language": "python",
   "name": "python3"
  },
  "language_info": {
   "codemirror_mode": {
    "name": "ipython",
    "version": 3
   },
   "file_extension": ".py",
   "mimetype": "text/x-python",
   "name": "python",
   "nbconvert_exporter": "python",
   "pygments_lexer": "ipython3",
   "version": "3.11.5"
  }
 },
 "nbformat": 4,
 "nbformat_minor": 2
}
