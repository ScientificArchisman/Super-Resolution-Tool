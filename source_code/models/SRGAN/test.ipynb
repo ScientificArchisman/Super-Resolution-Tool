{
 "cells": [
  {
   "cell_type": "code",
   "execution_count": 1,
   "metadata": {},
   "outputs": [],
   "source": [
    "from model import Generator, Discriminator\n",
    "from loss import ContentLoss,  GeneratoradversarialLoss, DiscriminatorLoss\n",
    "import torch \n",
    "import torch.nn as nn\n",
    "torch.set_num_threads(1)\n",
    "import config\n",
    "from imageloader import create_dataloaders\n",
    "from torchvision.models import vgg19, VGG19_Weights\n",
    "import matplotlib.pyplot as plt\n",
    "import numpy as np\n",
    "from PIL import Image"
   ]
  },
  {
   "cell_type": "code",
   "execution_count": 2,
   "metadata": {},
   "outputs": [],
   "source": [
    "device = config.DEVICE\n",
    "\n",
    "# Create the models\n",
    "discriminator = Discriminator(input_channels=config.DISCRIMINATOR_INPUT_CHANNELS).to(device)\n",
    "generator = Generator(in_channels=3, out_channels=3, \n",
    "                      num_residual_blocks=config.NUM_RESIDUAL_BLOCKS, \n",
    "                      num_upsample_blocks=config.NUM_UPSAMPLE_BLOCKS, \n",
    "                      upsample_factor=2).to(device)\n",
    "\n",
    "# Create the optimizers\n",
    "generator_optim = torch.optim.Adam(generator.parameters(), lr=1e-4)\n",
    "discriminator_optim = torch.optim.Adam(discriminator.parameters(), lr=1e-4)\n",
    "\n",
    "# Create the loss functions\n",
    "generator_adversarial_loss = GeneratoradversarialLoss().to(device)\n",
    "discriminator_loss = DiscriminatorLoss().to(device)\n",
    "content_loss = ContentLoss().to(device)\n",
    "\n",
    "# Create the dataloaders\n",
    "train_loader, validation_loader, test_loader = create_dataloaders(low_res_dir=config.LOW_RES_FOLDER, \n",
    "                                                                high_res_dir=config.HIGH_RES_FOLDER, \n",
    "                                                                batch_size=config.BATCH_SIZE, \n",
    "                                                                num_workers=config.NUM_WORKERS)"
   ]
  },
  {
   "cell_type": "code",
   "execution_count": 3,
   "metadata": {},
   "outputs": [],
   "source": [
    "# Load the parameters of the generator\n",
    "generator.load_state_dict(torch.load(\"/Users/archismanchakraborti/Downloads/generator\", map_location=torch.device('cpu')))\n",
    "\n",
    "generator.eval()\n",
    "\n",
    "lr, hr = next(iter(train_loader))\n",
    "test_image_lr, test_image_hr = lr[0].unsqueeze(0).to(device), hr[0].unsqueeze(0).to(device) \n",
    "output_image = generator(test_image_lr)"
   ]
  },
  {
   "cell_type": "code",
   "execution_count": 51,
   "metadata": {},
   "outputs": [
    {
     "data": {
      "text/plain": [
       "(torch.Size([1, 3, 32, 32]),\n",
       " torch.Size([1, 3, 128, 128]),\n",
       " torch.Size([1, 3, 128, 128]))"
      ]
     },
     "execution_count": 51,
     "metadata": {},
     "output_type": "execute_result"
    }
   ],
   "source": [
    "test_image_lr.shape, test_image_hr.shape, output_image.shape"
   ]
  },
  {
   "cell_type": "code",
   "execution_count": null,
   "metadata": {},
   "outputs": [],
   "source": []
  }
 ],
 "metadata": {
  "kernelspec": {
   "display_name": "Python 3",
   "language": "python",
   "name": "python3"
  },
  "language_info": {
   "codemirror_mode": {
    "name": "ipython",
    "version": 3
   },
   "file_extension": ".py",
   "mimetype": "text/x-python",
   "name": "python",
   "nbconvert_exporter": "python",
   "pygments_lexer": "ipython3",
   "version": "3.11.5"
  }
 },
 "nbformat": 4,
 "nbformat_minor": 2
}
